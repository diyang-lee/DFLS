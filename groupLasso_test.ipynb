{
 "cells": [
  {
   "cell_type": "code",
   "execution_count": 1,
   "id": "84791b36",
   "metadata": {},
   "outputs": [
    {
     "name": "stdout",
     "output_type": "stream",
     "text": [
      "(404, 13) (102, 13)\n"
     ]
    }
   ],
   "source": [
    "#==================================\n",
    "#   Run this cell at first\n",
    "#==================================\n",
    "\n",
    "%run ODE_DFLS.py\n",
    "\n",
    "from sklearn import datasets\n",
    "boston = datasets.load_boston()\n",
    "X = boston.data\n",
    "y = boston.target\n",
    "y=y-np.mean(y)  # centered data\n",
    "\n",
    "from sklearn.preprocessing import StandardScaler\n",
    "\n",
    "standardScaler = StandardScaler()\n",
    "standardScaler.fit(X)\n",
    "X=standardScaler.transform(X)\n",
    "\n",
    "from sklearn.model_selection import train_test_split\n",
    "\n",
    "X, X_test, y, y_test = train_test_split(X, y, test_size=0.2, random_state=100)\n",
    "\n",
    "print(X.shape, X_test.shape)"
   ]
  },
  {
   "cell_type": "code",
   "execution_count": 2,
   "id": "e93bc9f5",
   "metadata": {},
   "outputs": [
    {
     "name": "stdout",
     "output_type": "stream",
     "text": [
      "ODE_rmse= 5.3800527855169165\n",
      "batch_rmse= 5.380202381581945\n",
      "ODE solution is [ 0.          0.          0.          0.8362976  -0.76118379  2.70907174\n",
      " -0.04939485 -0.43047408  0.          0.         -1.84100084  0.83429077\n",
      " -3.06429927]\n",
      "batch solution is [-0.          0.         -0.          0.83469808 -0.75240343  2.69807269\n",
      " -0.04881113 -0.44422872  0.         -0.         -1.84110063  0.83439683\n",
      " -3.07392447]\n"
     ]
    }
   ],
   "source": [
    "lam=.2\n",
    "nn=200\n",
    "gl = GroupLasso(\n",
    "        groups=[1,1,1,2,2,2,3,3,4,4,5,5,5],\n",
    "        group_reg=lam,\n",
    "        l1_reg=0,\n",
    "        scale_reg=\"group_size\",\n",
    "        supress_warning=True,\n",
    "        n_iter=2000,\n",
    "        fit_intercept=False,\n",
    "        tol=1e-8)\n",
    "sub=13\n",
    "N=5\n",
    "\n",
    "X_=X[:,:sub].copy()\n",
    "y_=y.copy()\n",
    "zcomp=[]\n",
    "for i in np.arange(1,N+1):\n",
    "    zcomp.append(sub-i)\n",
    "X_[:,zcomp]*=0.\n",
    "gl.fit(X_, y_)\n",
    "w0=gl.coef_.flatten()\n",
    "gl.fit(X[:,:sub], y)\n",
    "w2=gl.coef_.flatten()\n",
    "\n",
    "group1=[[0,0,1,2],[0,3,4,5],[0,6,7]]\n",
    "group2=[[0,8,9],[0,10,11,12]]\n",
    "for ele in group1:\n",
    "    if w0[ele[1]]!=0:\n",
    "        ele[0]=1\n",
    "w1=w0.copy()\n",
    "\n",
    "w1,tp=increFeature_GL(X[:,:sub-N],y,X[:,sub-N:],w0,group1,group2,lam,nn)\n",
    "\n",
    "print(\"ODE_rmse=\",np.sqrt(mean_squared_error(y_test,X_test@w1)))\n",
    "print(\"batch_rmse=\",np.sqrt(mean_squared_error(y_test,X_test@w2)))\n",
    "\n",
    "print(\"ODE solution is\",w1)\n",
    "print(\"batch solution is\",w2)"
   ]
  },
  {
   "cell_type": "code",
   "execution_count": null,
   "id": "6fee33e0",
   "metadata": {},
   "outputs": [],
   "source": []
  }
 ],
 "metadata": {
  "kernelspec": {
   "display_name": "Python 3",
   "language": "python",
   "name": "python3"
  },
  "language_info": {
   "codemirror_mode": {
    "name": "ipython",
    "version": 3
   },
   "file_extension": ".py",
   "mimetype": "text/x-python",
   "name": "python",
   "nbconvert_exporter": "python",
   "pygments_lexer": "ipython3",
   "version": "3.8.8"
  }
 },
 "nbformat": 4,
 "nbformat_minor": 5
}
