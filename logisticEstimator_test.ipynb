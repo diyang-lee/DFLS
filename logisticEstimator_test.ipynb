{
 "cells": [
  {
   "cell_type": "code",
   "execution_count": 1,
   "id": "c9a247fc",
   "metadata": {},
   "outputs": [
    {
     "name": "stdout",
     "output_type": "stream",
     "text": [
      "(100, 4)\n"
     ]
    }
   ],
   "source": [
    "#==================================\n",
    "#   Run this cell at first\n",
    "#==================================\n",
    "\n",
    "%run ODE_DFLS.py\n",
    "\n",
    "from sklearn import datasets\n",
    "iris = datasets.load_iris()\n",
    "X = iris.data\n",
    "y = iris.target\n",
    "\n",
    "X = X[y != 2]\n",
    "y = y[y != 2]\n",
    "\n",
    "print(X.shape)"
   ]
  },
  {
   "cell_type": "code",
   "execution_count": 2,
   "id": "61e54951",
   "metadata": {},
   "outputs": [
    {
     "name": "stdout",
     "output_type": "stream",
     "text": [
      "ODE solution is [-0.05161313 -0.23007375  0.36566734  0.15405166]\n",
      "batch solution is [-0.05161325 -0.2300736   0.36566746  0.15405155]\n"
     ]
    }
   ],
   "source": [
    "C=1 / X.shape[0]  # similar to 1/n\n",
    "N=1 # new feature\n",
    "X_=X.copy()\n",
    "y_=y.copy()\n",
    "d=X.shape[1]\n",
    "clf = LogisticRegression(C=C, penalty=\"l2\", fit_intercept=0,solver=\"lbfgs\", tol=1e-8,max_iter=3000)\n",
    "zcomp=[]\n",
    "for i in np.arange(1,N+1):\n",
    "    zcomp.append(d-i)\n",
    "X_[:,zcomp]*=0.\n",
    "clf.fit(X_, y_)\n",
    "w0 = clf.coef_.copy().flatten()\n",
    "\n",
    "clf.fit(X, y)\n",
    "w2 = clf.coef_.copy().flatten()\n",
    "\n",
    "group1=[0,1,2]\n",
    "group2=[3]\n",
    "w0_=w0.copy()\n",
    "nn=200\n",
    "w1=increFeature_logit(X[:,:d-N],y,X[:,d-N:],w0_,group1,group2,C,nn)\n",
    "\n",
    "print(\"ODE solution is\",w1)\n",
    "print(\"batch solution is\",w2)"
   ]
  }
 ],
 "metadata": {
  "kernelspec": {
   "display_name": "Python 3",
   "language": "python",
   "name": "python3"
  },
  "language_info": {
   "codemirror_mode": {
    "name": "ipython",
    "version": 3
   },
   "file_extension": ".py",
   "mimetype": "text/x-python",
   "name": "python",
   "nbconvert_exporter": "python",
   "pygments_lexer": "ipython3",
   "version": "3.8.8"
  }
 },
 "nbformat": 4,
 "nbformat_minor": 5
}
