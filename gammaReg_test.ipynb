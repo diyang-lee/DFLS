{
 "cells": [
  {
   "cell_type": "code",
   "execution_count": 2,
   "id": "322c58a3",
   "metadata": {},
   "outputs": [
    {
     "name": "stdout",
     "output_type": "stream",
     "text": [
      "(100, 4)\n"
     ]
    }
   ],
   "source": [
    "#==================================\n",
    "#   Run this cell at first\n",
    "#==================================\n",
    "\n",
    "%run ODE_DFLS.py\n",
    "\n",
    "from sklearn import datasets\n",
    "iris = datasets.load_iris()\n",
    "X = iris.data\n",
    "y = iris.target\n",
    "\n",
    "X = X[y != 2]\n",
    "y = y[y != 2]\n",
    "y=y+1\n",
    "\n",
    "print(X.shape)"
   ]
  },
  {
   "cell_type": "code",
   "execution_count": 3,
   "id": "7259bb33",
   "metadata": {},
   "outputs": [
    {
     "name": "stdout",
     "output_type": "stream",
     "text": [
      "ODE solution is [ 0.02108672 -0.05189374  0.13286032  0.05353784]\n",
      "batch solution is [ 0.02108699 -0.05189401  0.13286149  0.0535332 ]\n"
     ]
    }
   ],
   "source": [
    "lam=.6\n",
    "N=1 # new feature\n",
    "pic=0\n",
    "\n",
    "X_=X.copy()\n",
    "y_=y.copy()\n",
    "d=X.shape[1]\n",
    "clf = linear_model.PoissonRegressor(alpha=lam*2.,\n",
    "        fit_intercept=False,\n",
    "        max_iter=5000,\n",
    "        tol=1e-8,\n",
    "        warm_start=False)\n",
    "zcomp=[]\n",
    "for i in np.arange(1,N+1):\n",
    "    zcomp.append(d-i)\n",
    "X_[:,zcomp]*=0.\n",
    "clf.fit(X_, y_)\n",
    "w0 = clf.coef_.copy().flatten()\n",
    "clf.fit(X, y)\n",
    "w2 = clf.coef_.copy().flatten()\n",
    "\n",
    "group1=[0,1,2]\n",
    "group2=[3]\n",
    "\n",
    "w0_=w0.copy()\n",
    "nn=200\n",
    "w1=increFeature_poi(X[:,:d-N],y,X[:,d-N:],w0_,group1,group2,lam,nn)\n",
    "\n",
    "print(\"ODE solution is\",w1)\n",
    "print(\"batch solution is\",w2)"
   ]
  }
 ],
 "metadata": {
  "kernelspec": {
   "display_name": "Python 3",
   "language": "python",
   "name": "python3"
  },
  "language_info": {
   "codemirror_mode": {
    "name": "ipython",
    "version": 3
   },
   "file_extension": ".py",
   "mimetype": "text/x-python",
   "name": "python",
   "nbconvert_exporter": "python",
   "pygments_lexer": "ipython3",
   "version": "3.8.8"
  }
 },
 "nbformat": 4,
 "nbformat_minor": 5
}
